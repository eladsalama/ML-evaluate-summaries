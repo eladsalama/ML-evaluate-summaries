{
 "cells": [
  {
   "cell_type": "code",
   "execution_count": 1,
   "id": "5339ab35",
   "metadata": {
    "_cell_guid": "b1076dfc-b9ad-4769-8c92-a6c4dae69d19",
    "_uuid": "8f2839f25d086af736a60e9eeb907d3b93b6e0e5",
    "execution": {
     "iopub.execute_input": "2024-05-16T15:38:42.556819Z",
     "iopub.status.busy": "2024-05-16T15:38:42.556494Z",
     "iopub.status.idle": "2024-05-16T15:38:42.561206Z",
     "shell.execute_reply": "2024-05-16T15:38:42.560454Z"
    },
    "papermill": {
     "duration": 0.030666,
     "end_time": "2024-05-16T15:38:42.563061",
     "exception": false,
     "start_time": "2024-05-16T15:38:42.532395",
     "status": "completed"
    },
    "tags": []
   },
   "outputs": [],
   "source": [
    "# This Python 3 environment comes with many helpful analytics libraries installed\n",
    "# It is defined by the kaggle/python Docker image: https://github.com/kaggle/docker-python\n",
    "# For example, here's several helpful packages to load\n",
    "\n",
    "\n",
    "# Input data files are available in the read-only \"../input/\" directory\n",
    "# For example, running this (by clicking run or pressing Shift+Enter) will list all files under the input directory\n",
    "\n",
    "# import os\n",
    "# for dirname, _, filenames in os.walk('/kaggle/input'):\n",
    "#     for filename in filenames:\n",
    "#         print(os.path.join(dirname, filename))\n",
    "\n",
    "# You can write up to 20GB to the current directory (/kaggle/working/) that gets preserved as output when you create a version using \"Save & Run All\" \n",
    "# You can also write temporary files to /kaggle/temp/, but they won't be saved outside of the current session"
   ]
  },
  {
   "cell_type": "code",
   "execution_count": 2,
   "id": "6d9874ad",
   "metadata": {
    "execution": {
     "iopub.execute_input": "2024-05-16T15:38:42.608345Z",
     "iopub.status.busy": "2024-05-16T15:38:42.608060Z",
     "iopub.status.idle": "2024-05-16T15:39:15.662214Z",
     "shell.execute_reply": "2024-05-16T15:39:15.661268Z"
    },
    "papermill": {
     "duration": 33.079441,
     "end_time": "2024-05-16T15:39:15.664457",
     "exception": false,
     "start_time": "2024-05-16T15:38:42.585016",
     "status": "completed"
    },
    "tags": []
   },
   "outputs": [
    {
     "name": "stdout",
     "output_type": "stream",
     "text": [
      "Collecting autocorrect\r\n",
      "  Downloading autocorrect-2.6.1.tar.gz (622 kB)\r\n",
      "\u001b[2K     \u001b[90m━━━━━━━━━━━━━━━━━━━━━━━━━━━━━━━━━━━━━━\u001b[0m \u001b[32m622.8/622.8 kB\u001b[0m \u001b[31m20.6 MB/s\u001b[0m eta \u001b[36m0:00:00\u001b[0m\r\n",
      "\u001b[?25h  Preparing metadata (setup.py) ... \u001b[?25l-\b \bdone\r\n",
      "\u001b[?25hBuilding wheels for collected packages: autocorrect\r\n",
      "  Building wheel for autocorrect (setup.py) ... \u001b[?25l-\b \b\\\b \bdone\r\n",
      "\u001b[?25h  Created wheel for autocorrect: filename=autocorrect-2.6.1-py3-none-any.whl size=622364 sha256=4ad03123392c6158b2a00bda4c265410ad139537b4b683c10ab0eeab79a5daf7\r\n",
      "  Stored in directory: /root/.cache/pip/wheels/b5/7b/6d/b76b29ce11ff8e2521c8c7dd0e5bfee4fb1789d76193124343\r\n",
      "Successfully built autocorrect\r\n",
      "Installing collected packages: autocorrect\r\n",
      "Successfully installed autocorrect-2.6.1\r\n"
     ]
    },
    {
     "data": {
      "text/plain": [
       "'held'"
      ]
     },
     "execution_count": 2,
     "metadata": {},
     "output_type": "execute_result"
    }
   ],
   "source": [
    "import numpy as np\n",
    "import pandas as pd\n",
    "\n",
    "import warnings\n",
    "import logging\n",
    "import pickle\n",
    "import os\n",
    "import gc\n",
    "\n",
    "# disabling unnecceseray warnings\n",
    "warnings.simplefilter(\"ignore\")\n",
    "logging.disable(logging.ERROR)\n",
    "os.environ[\"TOKENIZERS_PARALLELISM\"] = \"false\"\n",
    "os.environ['TF_CPP_MIN_LOG_LEVEL'] = '3'\n",
    "\n",
    "import tensorflow as tf\n",
    "from transformers import TFAutoModel, AutoTokenizer\n",
    "from tensorflow import keras\n",
    "from keras import layers\n",
    "import datetime\n",
    "from keras.callbacks import EarlyStopping\n",
    "import matplotlib.pyplot as plt\n",
    "from sklearn.model_selection import KFold\n",
    "from tensorflow.keras.callbacks import ReduceLROnPlateau\n",
    "from sklearn.model_selection import train_test_split\n",
    "\n",
    "keras.mixed_precision.set_global_policy(\"mixed_float16\")\n",
    "\n",
    "# Limit the GPU memory growth using TensorFlow\n",
    "physical_devices = tf.config.list_physical_devices('GPU')\n",
    "tf.config.experimental.set_memory_growth(physical_devices[0], True)\n",
    "# tf.config.experimental.set_memory_growth(physical_devices[1], True)\n",
    "\n",
    "import random\n",
    "\n",
    "# Set random seeds\n",
    "random_seed = 42\n",
    "np.random.seed(random_seed)\n",
    "tf.random.set_seed(random_seed)\n",
    "random.seed(random_seed)\n",
    "\n",
    "!pip install autocorrect\n",
    "from autocorrect import Speller\n",
    "spell = Speller(lang='en', fast=True)\n",
    "spell('helo')"
   ]
  },
  {
   "cell_type": "code",
   "execution_count": 3,
   "id": "abe0c882",
   "metadata": {
    "execution": {
     "iopub.execute_input": "2024-05-16T15:39:15.713429Z",
     "iopub.status.busy": "2024-05-16T15:39:15.712733Z",
     "iopub.status.idle": "2024-05-16T15:39:15.717293Z",
     "shell.execute_reply": "2024-05-16T15:39:15.716418Z"
    },
    "papermill": {
     "duration": 0.031199,
     "end_time": "2024-05-16T15:39:15.719224",
     "exception": false,
     "start_time": "2024-05-16T15:39:15.688025",
     "status": "completed"
    },
    "tags": []
   },
   "outputs": [],
   "source": [
    "data_path = '/kaggle/input/commonlit-evaluate-student-summaries/'"
   ]
  },
  {
   "cell_type": "code",
   "execution_count": 4,
   "id": "e6318082",
   "metadata": {
    "execution": {
     "iopub.execute_input": "2024-05-16T15:39:15.766776Z",
     "iopub.status.busy": "2024-05-16T15:39:15.766305Z",
     "iopub.status.idle": "2024-05-16T15:39:15.915506Z",
     "shell.execute_reply": "2024-05-16T15:39:15.914580Z"
    },
    "papermill": {
     "duration": 0.175105,
     "end_time": "2024-05-16T15:39:15.917548",
     "exception": false,
     "start_time": "2024-05-16T15:39:15.742443",
     "status": "completed"
    },
    "tags": []
   },
   "outputs": [
    {
     "data": {
      "text/html": [
       "<div>\n",
       "<style scoped>\n",
       "    .dataframe tbody tr th:only-of-type {\n",
       "        vertical-align: middle;\n",
       "    }\n",
       "\n",
       "    .dataframe tbody tr th {\n",
       "        vertical-align: top;\n",
       "    }\n",
       "\n",
       "    .dataframe thead th {\n",
       "        text-align: right;\n",
       "    }\n",
       "</style>\n",
       "<table border=\"1\" class=\"dataframe\">\n",
       "  <thead>\n",
       "    <tr style=\"text-align: right;\">\n",
       "      <th></th>\n",
       "      <th>prompt_id</th>\n",
       "      <th>prompt_question</th>\n",
       "      <th>prompt_title</th>\n",
       "      <th>prompt_text</th>\n",
       "      <th>student_id</th>\n",
       "      <th>text</th>\n",
       "      <th>content</th>\n",
       "      <th>wording</th>\n",
       "    </tr>\n",
       "  </thead>\n",
       "  <tbody>\n",
       "    <tr>\n",
       "      <th>0</th>\n",
       "      <td>39c16e</td>\n",
       "      <td>Summarize at least 3 elements of an ideal trag...</td>\n",
       "      <td>On Tragedy</td>\n",
       "      <td>Chapter 13 \\r\\nAs the sequel to what has alrea...</td>\n",
       "      <td>00791789cc1f</td>\n",
       "      <td>1 element of an ideal tragedy is that it shoul...</td>\n",
       "      <td>-0.210614</td>\n",
       "      <td>-0.471415</td>\n",
       "    </tr>\n",
       "  </tbody>\n",
       "</table>\n",
       "</div>"
      ],
      "text/plain": [
       "  prompt_id                                    prompt_question prompt_title  \\\n",
       "0    39c16e  Summarize at least 3 elements of an ideal trag...   On Tragedy   \n",
       "\n",
       "                                         prompt_text    student_id  \\\n",
       "0  Chapter 13 \\r\\nAs the sequel to what has alrea...  00791789cc1f   \n",
       "\n",
       "                                                text   content   wording  \n",
       "0  1 element of an ideal tragedy is that it shoul... -0.210614 -0.471415  "
      ]
     },
     "execution_count": 4,
     "metadata": {},
     "output_type": "execute_result"
    }
   ],
   "source": [
    "# prompts train\n",
    "train_pro = pd.read_csv(data_path + 'prompts_train.csv')\n",
    "train_pro.head(1)\n",
    "\n",
    "# summaries train\n",
    "train_sum = pd.read_csv(data_path + 'summaries_train.csv')\n",
    "train_sum.head(1)\n",
    "\n",
    "# we will need to take a portion of the train data as test data\n",
    "\n",
    "train = train_pro.merge(train_sum , on = \"prompt_id\")\n",
    "train.head(1)"
   ]
  },
  {
   "cell_type": "code",
   "execution_count": 5,
   "id": "02c12690",
   "metadata": {
    "execution": {
     "iopub.execute_input": "2024-05-16T15:39:15.966196Z",
     "iopub.status.busy": "2024-05-16T15:39:15.965568Z",
     "iopub.status.idle": "2024-05-16T15:40:08.165518Z",
     "shell.execute_reply": "2024-05-16T15:40:08.164496Z"
    },
    "papermill": {
     "duration": 52.227164,
     "end_time": "2024-05-16T15:40:08.168031",
     "exception": false,
     "start_time": "2024-05-16T15:39:15.940867",
     "status": "completed"
    },
    "tags": []
   },
   "outputs": [
    {
     "data": {
      "application/vnd.jupyter.widget-view+json": {
       "model_id": "9ae4657f98844aa686e0a73f6bb69972",
       "version_major": 2,
       "version_minor": 0
      },
      "text/plain": [
       "tokenizer_config.json:   0%|          | 0.00/52.0 [00:00<?, ?B/s]"
      ]
     },
     "metadata": {},
     "output_type": "display_data"
    },
    {
     "data": {
      "application/vnd.jupyter.widget-view+json": {
       "model_id": "f37f807ded5e4af5a607d3a76b4de99f",
       "version_major": 2,
       "version_minor": 0
      },
      "text/plain": [
       "config.json:   0%|          | 0.00/580 [00:00<?, ?B/s]"
      ]
     },
     "metadata": {},
     "output_type": "display_data"
    },
    {
     "data": {
      "application/vnd.jupyter.widget-view+json": {
       "model_id": "8eb63820b62d49ea9bc8059798aabfb9",
       "version_major": 2,
       "version_minor": 0
      },
      "text/plain": [
       "spm.model:   0%|          | 0.00/2.46M [00:00<?, ?B/s]"
      ]
     },
     "metadata": {},
     "output_type": "display_data"
    },
    {
     "data": {
      "application/vnd.jupyter.widget-view+json": {
       "model_id": "15104f9159d1410eb85b6379bc0756c1",
       "version_major": 2,
       "version_minor": 0
      },
      "text/plain": [
       "tf_model.h5:   0%|          | 0.00/1.74G [00:00<?, ?B/s]"
      ]
     },
     "metadata": {},
     "output_type": "display_data"
    }
   ],
   "source": [
    "# Model name to load\n",
    "model_name =  \"microsoft/deberta-v3-large\" # 'roberta-large' \n",
    "\n",
    "# Load DeBERTa / RoBERTa model and tokenizer\n",
    "tokenizer = AutoTokenizer.from_pretrained(model_name)\n",
    "pre_trained_model = TFAutoModel.from_pretrained(model_name)"
   ]
  },
  {
   "cell_type": "code",
   "execution_count": 6,
   "id": "8b30bec0",
   "metadata": {
    "execution": {
     "iopub.execute_input": "2024-05-16T15:40:08.220078Z",
     "iopub.status.busy": "2024-05-16T15:40:08.219818Z",
     "iopub.status.idle": "2024-05-16T15:40:17.324369Z",
     "shell.execute_reply": "2024-05-16T15:40:17.323570Z"
    },
    "papermill": {
     "duration": 9.133516,
     "end_time": "2024-05-16T15:40:17.326497",
     "exception": false,
     "start_time": "2024-05-16T15:40:08.192981",
     "status": "completed"
    },
    "tags": []
   },
   "outputs": [
    {
     "data": {
      "text/plain": [
       "'On Tragedy [SEP] Think through this step by step: Summarize at least 3 elements of an ideal tragedy, as described by Aristotle. [SEP] Pay attention to the content and wording: 1 element of an ideal tragedy is that it should be arranged on a complex plan.  Another element of an ideal tragedy is that it should only have one main issue. The last element of an ideal tragedy is that it should have a double thread plot and an opposite catastrophe for both good and bad.'"
      ]
     },
     "execution_count": 6,
     "metadata": {},
     "output_type": "execute_result"
    }
   ],
   "source": [
    "# Auto correcting spellings of all summaries\n",
    "sep = f\" {tokenizer.sep_token} \"\n",
    "\n",
    "prefix1 = \"Think through this step by step: \"\n",
    "prefix2 = \"Pay attention to the content and wording: \"\n",
    "\n",
    "train[\"text\"] = train[\"text\"].apply(lambda x: spell(x))\n",
    "train['input'] = train['prompt_title'] + sep + prefix1 + train['prompt_question'] + sep + prefix2 + train['text']\n",
    "train['input'][0]"
   ]
  },
  {
   "cell_type": "code",
   "execution_count": 7,
   "id": "318055f2",
   "metadata": {
    "execution": {
     "iopub.execute_input": "2024-05-16T15:40:17.376278Z",
     "iopub.status.busy": "2024-05-16T15:40:17.376057Z",
     "iopub.status.idle": "2024-05-16T15:40:17.713911Z",
     "shell.execute_reply": "2024-05-16T15:40:17.712990Z"
    },
    "papermill": {
     "duration": 0.364857,
     "end_time": "2024-05-16T15:40:17.715979",
     "exception": false,
     "start_time": "2024-05-16T15:40:17.351122",
     "status": "completed"
    },
    "tags": []
   },
   "outputs": [
    {
     "data": {
      "image/png": "[encoded data removed]",
      "text/plain": [
       "<Figure size 640x480 with 1 Axes>"
      ]
     },
     "metadata": {},
     "output_type": "display_data"
    }
   ],
   "source": [
    "# Plot the lengths of the inputs\n",
    "plt.scatter(train['input'].index, train['input'].apply(len).values, marker='o', color='blue')\n",
    "plt.xlabel('Index')\n",
    "plt.ylabel('Values')\n",
    "plt.title('Summaries Length')\n",
    "plt.grid(True)\n",
    "plt.show()"
   ]
  },
  {
   "cell_type": "code",
   "execution_count": 8,
   "id": "830ec2c2",
   "metadata": {
    "execution": {
     "iopub.execute_input": "2024-05-16T15:40:17.767372Z",
     "iopub.status.busy": "2024-05-16T15:40:17.767123Z",
     "iopub.status.idle": "2024-05-16T15:40:23.960494Z",
     "shell.execute_reply": "2024-05-16T15:40:23.959758Z"
    },
    "papermill": {
     "duration": 6.221924,
     "end_time": "2024-05-16T15:40:23.962893",
     "exception": false,
     "start_time": "2024-05-16T15:40:17.740969",
     "status": "completed"
    },
    "tags": []
   },
   "outputs": [],
   "source": [
    "# Preprocessing features and labels\n",
    "\n",
    "# Tokenize text data\n",
    "\n",
    "# Change MAX_SUMMARY_LENGTH\n",
    "MAX_SUMMARY_LENGTH = 1500 + len(prefix1) + len(prefix2)\n",
    "\n",
    "# DEBERTA / RoBERTa Tokenizing\n",
    "X_train = tokenizer.batch_encode_plus(train['input'].tolist(),\n",
    "                                              add_special_tokens=True,\n",
    "                                              truncation=True,\n",
    "                                              padding='max_length',\n",
    "                                              return_tensors='tf',\n",
    "                                              max_length=MAX_SUMMARY_LENGTH,\n",
    "                                              return_attention_mask = True)\n",
    "del X_train['token_type_ids']\n",
    "\n",
    "Y_train = tf.constant(train[['content', 'wording']].values, dtype=tf.float32)"
   ]
  },
  {
   "cell_type": "code",
   "execution_count": 9,
   "id": "b54985a6",
   "metadata": {
    "execution": {
     "iopub.execute_input": "2024-05-16T15:40:24.014039Z",
     "iopub.status.busy": "2024-05-16T15:40:24.013801Z",
     "iopub.status.idle": "2024-05-16T15:40:24.017931Z",
     "shell.execute_reply": "2024-05-16T15:40:24.017192Z"
    },
    "papermill": {
     "duration": 0.031859,
     "end_time": "2024-05-16T15:40:24.019759",
     "exception": false,
     "start_time": "2024-05-16T15:40:23.987900",
     "status": "completed"
    },
    "tags": []
   },
   "outputs": [],
   "source": [
    "# # Create head mask\n",
    "# head_mask = np.zeros(X_train['input_ids'].shape)\n",
    "# for i, summary in enumerate(X_train['input_ids'].numpy()):\n",
    "#     use_full = False\n",
    "#     first_sep_flag = True\n",
    "#     for j, token in enumerate(summary):\n",
    "#         if token == tokenizer.sep_token_id:\n",
    "#             if first_sep_flag:\n",
    "#                 first_sep_flag = False\n",
    "#             else:\n",
    "#                 use_full = not use_full  \n",
    "#         head_mask[i][j] = (1 if use_full else 0) \n",
    "# head_mask = tf.constant(head_mask)\n",
    "# head_mask"
   ]
  },
  {
   "cell_type": "code",
   "execution_count": 10,
   "id": "d57f416c",
   "metadata": {
    "execution": {
     "iopub.execute_input": "2024-05-16T15:40:24.069407Z",
     "iopub.status.busy": "2024-05-16T15:40:24.069190Z",
     "iopub.status.idle": "2024-05-16T15:40:24.074273Z",
     "shell.execute_reply": "2024-05-16T15:40:24.073472Z"
    },
    "papermill": {
     "duration": 0.032191,
     "end_time": "2024-05-16T15:40:24.076135",
     "exception": false,
     "start_time": "2024-05-16T15:40:24.043944",
     "status": "completed"
    },
    "tags": []
   },
   "outputs": [],
   "source": [
    "# def get_embeddings(input_ids, attention_mask, model_name):\n",
    "    \n",
    "#     # Forward pass through pre trained model\n",
    "#     outputs = pre_trained_model(input_ids=input_ids, attention_mask=attention_mask)\n",
    "    \n",
    "#     if model_name == 'roberta-large':\n",
    "#         return outputs['pooler_output']\n",
    "#     else:\n",
    "#         return outputs[0]\n",
    "\n",
    "# # Save roberta/deberta embeddings in the training set\n",
    "\n",
    "# batch_size = 10 # ten is the biggest batch possible (can try maybe 11)\n",
    "# num_samples = len(X_train['input_ids'])\n",
    "# num_batches = (num_samples + batch_size - 1) // batch_size\n",
    "# averaged_embeddings = []\n",
    "\n",
    "# for i in range(num_batches):\n",
    "#     start_idx = i * batch_size\n",
    "#     end_idx = min((i + 1) * batch_size, num_samples)\n",
    "#     inputs = X_train['input_ids'][start_idx: end_idx]\n",
    "#     masks = X_train['attention_mask'][start_idx: end_idx]\n",
    "    \n",
    "#     embeddings = get_embeddings(input_ids=inputs, attention_mask=masks, model_name=model_name)\n",
    "#     h_mask = tf.expand_dims(tf.cast(head_mask[start_idx: end_idx], dtype=tf.float32), axis=-1)\n",
    "#     masked_outputs = tf.multiply(embeddings, h_mask)\n",
    "#     pooled = (tf.reduce_mean(masked_outputs, axis=1)).numpy()\n",
    "#     averaged_embeddings.append(pooled)\n",
    "    \n",
    "#     if i % int(num_batches * 0.1) == 0:\n",
    "#         print(f\"Batch {i}/{num_batches}\")\n",
    "        \n",
    "#     del embeddings\n",
    "#     del masked_outputs\n",
    "#     del pooled\n",
    "#     del h_mask\n",
    "#     gc.collect()\n",
    "#     tf.keras.backend.clear_session()\n",
    "# # Write to a file    \n",
    "# concatenated_embeddings = np.concatenate(averaged_embeddings, axis=0)\n",
    "# with open('masked_pooled_deberta_embeddings.pkl', 'wb') as f:\n",
    "#     pickle.dump(concatenated_embeddings, f)"
   ]
  },
  {
   "cell_type": "code",
   "execution_count": null,
   "id": "876acfa6",
   "metadata": {
    "execution": {
     "iopub.execute_input": "2024-05-15T13:46:19.639786Z",
     "iopub.status.busy": "2024-05-15T13:46:19.639166Z",
     "iopub.status.idle": "2024-05-15T13:46:19.691332Z",
     "shell.execute_reply": "2024-05-15T13:46:19.690610Z",
     "shell.execute_reply.started": "2024-05-15T13:46:19.639758Z"
    },
    "papermill": {
     "duration": 0.024149,
     "end_time": "2024-05-16T15:40:24.124626",
     "exception": false,
     "start_time": "2024-05-16T15:40:24.100477",
     "status": "completed"
    },
    "tags": []
   },
   "outputs": [],
   "source": []
  },
  {
   "cell_type": "code",
   "execution_count": null,
   "id": "1ab9807b",
   "metadata": {
    "execution": {
     "iopub.execute_input": "2024-05-15T13:49:49.057026Z",
     "iopub.status.busy": "2024-05-15T13:49:49.056450Z",
     "iopub.status.idle": "2024-05-15T13:49:49.355015Z",
     "shell.execute_reply": "2024-05-15T13:49:49.354265Z",
     "shell.execute_reply.started": "2024-05-15T13:49:49.056991Z"
    },
    "papermill": {
     "duration": 0.024225,
     "end_time": "2024-05-16T15:40:24.173226",
     "exception": false,
     "start_time": "2024-05-16T15:40:24.149001",
     "status": "completed"
    },
    "tags": []
   },
   "outputs": [],
   "source": []
  },
  {
   "cell_type": "code",
   "execution_count": 11,
   "id": "18cdb39e",
   "metadata": {
    "execution": {
     "iopub.execute_input": "2024-05-16T15:40:24.223942Z",
     "iopub.status.busy": "2024-05-16T15:40:24.223372Z",
     "iopub.status.idle": "2024-05-16T15:40:24.227983Z",
     "shell.execute_reply": "2024-05-16T15:40:24.227158Z"
    },
    "papermill": {
     "duration": 0.032352,
     "end_time": "2024-05-16T15:40:24.229783",
     "exception": false,
     "start_time": "2024-05-16T15:40:24.197431",
     "status": "completed"
    },
    "tags": []
   },
   "outputs": [],
   "source": [
    "# Save file to output folder\n",
    "\n",
    "# NOTE: if not running on Kaggle then modify the paths\n",
    "\n",
    "# RoBERTa\n",
    "# file_path = '/kaggle/working/cls_embeddings.csv' # from working folder\n",
    "# file_path = '/kaggle/input/cls-roberta-embeddings/cls_embeddings.csv' # from input folder\n",
    "# DeBERTa \n",
    "# file_path = '/kaggle/working/pooled_deberta_embeddings.csv'# from working folder\n",
    "# file_path = '/kaggle/input/pooled-deberta-embeddings/pooled_deberta_embeddings.csv'# from input folder\n",
    "\n",
    "# df_to_save = df_with_embeddings['pooled_roberta_embedding'].apply(lambda x: ','.join(map(str, x)))\n",
    "# df_to_save.to_csv(file_path, index=False)\n",
    "\n",
    "# Load masked pooled Deberta embeddings\n",
    "# with open('/kaggle/input/masked-pooled-deberta-embeddings/mask_pooled_deberta_embeddings.pkl', 'rb') as f:\n",
    "#     loaded_array = pickle.load(f)"
   ]
  },
  {
   "cell_type": "code",
   "execution_count": 12,
   "id": "94824898",
   "metadata": {
    "execution": {
     "iopub.execute_input": "2024-05-16T15:40:24.281912Z",
     "iopub.status.busy": "2024-05-16T15:40:24.280983Z",
     "iopub.status.idle": "2024-05-16T15:40:24.285124Z",
     "shell.execute_reply": "2024-05-16T15:40:24.284350Z"
    },
    "papermill": {
     "duration": 0.032801,
     "end_time": "2024-05-16T15:40:24.287142",
     "exception": false,
     "start_time": "2024-05-16T15:40:24.254341",
     "status": "completed"
    },
    "tags": []
   },
   "outputs": [],
   "source": [
    "# X_train_preprocessed = pd.read_csv(file_path)\n",
    "\n",
    "# # # Convert the embeddings column from strings to lists\n",
    "# X_train_preprocessed['embeddings'] = X_train_preprocessed['embeddings'].apply(lambda x: list(map(float, x.split(','))))\n",
    "# X_train_preprocessed['embeddings']"
   ]
  },
  {
   "cell_type": "code",
   "execution_count": 13,
   "id": "a76b8039",
   "metadata": {
    "execution": {
     "iopub.execute_input": "2024-05-16T15:40:24.338377Z",
     "iopub.status.busy": "2024-05-16T15:40:24.338136Z",
     "iopub.status.idle": "2024-05-16T15:40:24.341892Z",
     "shell.execute_reply": "2024-05-16T15:40:24.341080Z"
    },
    "papermill": {
     "duration": 0.031489,
     "end_time": "2024-05-16T15:40:24.343798",
     "exception": false,
     "start_time": "2024-05-16T15:40:24.312309",
     "status": "completed"
    },
    "tags": []
   },
   "outputs": [],
   "source": [
    "# !rm -rf ./logs/fit"
   ]
  },
  {
   "cell_type": "code",
   "execution_count": 14,
   "id": "d5d73f64",
   "metadata": {
    "execution": {
     "iopub.execute_input": "2024-05-16T15:40:24.394481Z",
     "iopub.status.busy": "2024-05-16T15:40:24.394213Z",
     "iopub.status.idle": "2024-05-16T15:40:24.398470Z",
     "shell.execute_reply": "2024-05-16T15:40:24.397653Z"
    },
    "papermill": {
     "duration": 0.032128,
     "end_time": "2024-05-16T15:40:24.400490",
     "exception": false,
     "start_time": "2024-05-16T15:40:24.368362",
     "status": "completed"
    },
    "tags": []
   },
   "outputs": [],
   "source": [
    "# # Compile the model (add loss, optimizer, metrics)\n",
    "\n",
    "# # The loss function\n",
    "# def mcrmse(y_true, y_pred):\n",
    "#     columnwise_mse = tf.reduce_mean(tf.square(y_true - y_pred), axis=0)\n",
    "#     return tf.reduce_mean(tf.sqrt(columnwise_mse), axis=-1)\n",
    "\n",
    "# initial_learning_rate = 0.001\n",
    "\n",
    "# log_dir = \"logs/fit/\" + datetime.datetime.now().strftime(\"%Y%m%d-%H%M%S\")\n",
    "# tensorboard_callback = tf.keras.callbacks.TensorBoard(log_dir=log_dir, histogram_freq=1)\n"
   ]
  },
  {
   "cell_type": "code",
   "execution_count": 15,
   "id": "b8386998",
   "metadata": {
    "execution": {
     "iopub.execute_input": "2024-05-16T15:40:24.452357Z",
     "iopub.status.busy": "2024-05-16T15:40:24.451549Z",
     "iopub.status.idle": "2024-05-16T15:40:24.456640Z",
     "shell.execute_reply": "2024-05-16T15:40:24.455766Z"
    },
    "papermill": {
     "duration": 0.033231,
     "end_time": "2024-05-16T15:40:24.458629",
     "exception": false,
     "start_time": "2024-05-16T15:40:24.425398",
     "status": "completed"
    },
    "tags": []
   },
   "outputs": [],
   "source": [
    "# # NN with embeddings preprocessed\n",
    "# def create_model():\n",
    "#     input_shape = len(X_train_preprocessed['embeddings'][0])\n",
    "\n",
    "#     input_layer = keras.Input(shape=(input_shape, ), dtype='float32')\n",
    "    \n",
    "#     reshape_input_layer = layers.Reshape((1,input_shape))(input_layer)\n",
    "    \n",
    "#     LSTM_layer = layers.LSTM(128, return_sequences=False)(reshape_input_layer)\n",
    "    \n",
    "#     batch_norm = layers.BatchNormalization()(LSTM_layer)\n",
    "\n",
    "#     hidden_layer = layers.Dense(128, activation='linear')(batch_norm)\n",
    "\n",
    "#     batch_norm = layers.BatchNormalization()(hidden_layer)\n",
    "    \n",
    "#     hidden_layer = layers.Dense(64, activation='linear')(batch_norm)\n",
    "    \n",
    "#     batch_norm = layers.BatchNormalization()(hidden_layer)\n",
    "\n",
    "#     output_layer = layers.Dense(2, activation='linear')(batch_norm)\n",
    "    \n",
    "#     # Define the model\n",
    "#     model = keras.Model(inputs=input_layer, outputs=output_layer)\n",
    "\n",
    "#     for layer in model.layers:\n",
    "#         layer.trainable = True\n",
    "#     return model\n",
    "\n",
    "# model = create_model()\n",
    "# model.summary()\n",
    "\n",
    "    "
   ]
  },
  {
   "cell_type": "code",
   "execution_count": 16,
   "id": "3666d5f0",
   "metadata": {
    "execution": {
     "iopub.execute_input": "2024-05-16T15:40:24.510207Z",
     "iopub.status.busy": "2024-05-16T15:40:24.509605Z",
     "iopub.status.idle": "2024-05-16T15:40:24.515445Z",
     "shell.execute_reply": "2024-05-16T15:40:24.514573Z"
    },
    "papermill": {
     "duration": 0.033854,
     "end_time": "2024-05-16T15:40:24.517416",
     "exception": false,
     "start_time": "2024-05-16T15:40:24.483562",
     "status": "completed"
    },
    "tags": []
   },
   "outputs": [],
   "source": [
    "# # TRAIN PRE-PROCESSED VERSION\n",
    "# # Train the model\n",
    "\n",
    "# # model.load_weights('/kaggle/input/model-weights/saved_model_weights.weights.h5')\n",
    "\n",
    "# X_train_input = np.array(X_train_preprocessed['embeddings'].tolist())\n",
    "# Y_train = tf.constant(train[['content', 'wording']].values, dtype=tf.float32)\n",
    "\n",
    "# # model.fit(x=X_train_input,\n",
    "# #           y=Y_train,\n",
    "# #           epochs=20,\n",
    "# #           batch_size=16,\n",
    "# #           validation_split=0.2,\n",
    "# #           callbacks=[tensorboard_callback, early_stopping],\n",
    "# #           verbose=2)\n",
    "\n",
    "\n",
    "\n",
    "# # Assuming X contains your features and y contains your target variable\n",
    "\n",
    "# # Initialize the KFold object\n",
    "# kf = KFold(n_splits=2, shuffle=True, random_state=42)\n",
    "\n",
    "# # Initialize an empty list to store the validation losses\n",
    "# val_losses = []\n",
    "\n",
    "# Y_train_np = Y_train.numpy()\n",
    "\n",
    "# # Iterate over each fold\n",
    "# for train_index, val_index in kf.split(X_train_input):\n",
    "#     # Split data into training and validation sets\n",
    "#     X_train_fold, X_val_fold = X_train_input[train_index], X_train_input[val_index]\n",
    "#     Y_train_fold, Y_val_fold = Y_train_np[train_index], Y_train_np[val_index]\n",
    "    \n",
    "#     # Create and compile your model\n",
    "#     model = create_model()\n",
    "#     model.compile(loss=mcrmse,\n",
    "#                  optimizer=keras.optimizers.Adam(learning_rate=initial_learning_rate),\n",
    "#                  metrics=['r2_score'])\n",
    "    \n",
    "#     early_stopping = EarlyStopping(monitor='val_loss', patience=10, restore_best_weights=True)\n",
    "#     reduce_lr = ReduceLROnPlateau(monitor='val_loss', factor=0.5, patience=1, verbose=1)\n",
    "                \n",
    "#     # Train the model\n",
    "#     history = model.fit(x=X_train_fold,\n",
    "#                         y=Y_train_fold,\n",
    "#                         epochs=100,\n",
    "#                         batch_size=16,\n",
    "#                         validation_data=(X_val_fold, Y_val_fold),\n",
    "#                         callbacks=[tensorboard_callback, early_stopping, reduce_lr],\n",
    "#                         verbose=2)\n",
    "    \n",
    "#     # Get the validation loss from the last epoch\n",
    "#     val_loss = history.history['val_loss'][-1]\n",
    "#     val_losses.append(val_loss)\n",
    "\n",
    "# # Calculate the mean validation loss\n",
    "# mean_val_loss = np.mean(val_losses)\n",
    "# print(\"Mean Validation Loss:\", mean_val_loss)\n"
   ]
  },
  {
   "cell_type": "code",
   "execution_count": 17,
   "id": "215bc94c",
   "metadata": {
    "execution": {
     "iopub.execute_input": "2024-05-16T15:40:24.567812Z",
     "iopub.status.busy": "2024-05-16T15:40:24.567551Z",
     "iopub.status.idle": "2024-05-16T15:40:24.571934Z",
     "shell.execute_reply": "2024-05-16T15:40:24.571124Z"
    },
    "papermill": {
     "duration": 0.031843,
     "end_time": "2024-05-16T15:40:24.573670",
     "exception": false,
     "start_time": "2024-05-16T15:40:24.541827",
     "status": "completed"
    },
    "tags": []
   },
   "outputs": [],
   "source": [
    "# # Create a layer that wraps the RoBERTa model to support Keras library\n",
    "# class PreTrainedModel(layers.Layer):\n",
    "#     def __init__(self, pre_trained_model,trainable=False, **kwargs):\n",
    "#         super().__init__(**kwargs)\n",
    "#         self.pre_trained_model = pre_trained_model\n",
    "#         self.pre_trained_model.trainable = trainable\n",
    "\n",
    "#     def call(self, inputs):\n",
    "#         input1 = inputs[0]\n",
    "#         input2 = inputs[1]\n",
    "\n",
    "#         # Call the roberta model and get the last hidden state\n",
    "#         output = self.pre_trained_model(input_ids=input1,\n",
    "#                                                 attention_mask=input2)\n",
    "#         del input1\n",
    "#         del input2\n",
    "#         gc.collect()\n",
    "        \n",
    "#         return output[0]"
   ]
  },
  {
   "cell_type": "code",
   "execution_count": 18,
   "id": "bddb3d0c",
   "metadata": {
    "execution": {
     "iopub.execute_input": "2024-05-16T15:40:24.676625Z",
     "iopub.status.busy": "2024-05-16T15:40:24.676372Z",
     "iopub.status.idle": "2024-05-16T15:40:24.681020Z",
     "shell.execute_reply": "2024-05-16T15:40:24.680176Z"
    },
    "papermill": {
     "duration": 0.032887,
     "end_time": "2024-05-16T15:40:24.682930",
     "exception": false,
     "start_time": "2024-05-16T15:40:24.650043",
     "status": "completed"
    },
    "tags": []
   },
   "outputs": [],
   "source": [
    "# # Define keras neural network with Functional API\n",
    "\n",
    "# # Explanation of the Functional API: \n",
    "# # For every layer we specify between parentheses at the end of the line the previous layer which will be the input.\n",
    "\n",
    "# input_layer = keras.Input(shape=(1, MAX_SUMMARY_LENGTH, 1024), dtype='float32')\n",
    "\n",
    "# input_layer2 = keras.Input(shape=(2,), dtype='float32')\n",
    "\n",
    "# reshape = layers.Reshape((MAX_SUMMARY_LENGTH, 1024))(input_layer)\n",
    "# # embeddings = PreTrainedModel(pre_trained_model)([input_layer1, input_layer2])\n",
    "# global_avg_pooling = layers.GlobalAveragePooling1D()(reshape)\n",
    "\n",
    "# hidden_layer = layers.Dense(256, activation='linear')(global_avg_pooling)\n",
    "# batch_norm = layers.BatchNormalization()(hidden_layer)\n",
    "# output_layer = layers.Dense(2, activation='linear')(batch_norm)\n",
    "\n",
    "# # Define the model\n",
    "# model = keras.Model(inputs=[input_layer, input_layer2], outputs=output_layer)\n",
    "\n",
    "# # Make roberta params untrainable\n",
    "# # for layer in model.layers[:-4]:\n",
    "# #     layer.trainable = False\n",
    "    \n",
    "# model.summary()"
   ]
  },
  {
   "cell_type": "code",
   "execution_count": 19,
   "id": "a41c2639",
   "metadata": {
    "execution": {
     "iopub.execute_input": "2024-05-16T15:40:24.734422Z",
     "iopub.status.busy": "2024-05-16T15:40:24.733741Z",
     "iopub.status.idle": "2024-05-16T15:40:24.738213Z",
     "shell.execute_reply": "2024-05-16T15:40:24.737402Z"
    },
    "papermill": {
     "duration": 0.032028,
     "end_time": "2024-05-16T15:40:24.740126",
     "exception": false,
     "start_time": "2024-05-16T15:40:24.708098",
     "status": "completed"
    },
    "tags": []
   },
   "outputs": [],
   "source": [
    "# # Compile the model (add loss, optimizer, metrics)\n",
    "\n",
    "# # The loss function\n",
    "# def mcrmse(y_true, y_pred):\n",
    "#     columnwise_mse = tf.reduce_mean(tf.square(y_true - y_pred), axis=0)\n",
    "#     return tf.reduce_mean(tf.sqrt(columnwise_mse), axis=-1)\n",
    "\n",
    "# initial_learning_rate = 0.001\n",
    "# early_stopping = EarlyStopping(monitor='val_loss', patience=5, restore_best_weights=True)\n",
    "# # log_dir = \"logs/fit/\" + datetime.datetime.now().strftime(\"%Y%m%d-%H%M%S\")\n",
    "# # tensorboard_callback = tf.keras.callbacks.TensorBoard(log_dir=log_dir, histogram_freq=1)\n",
    "# model.compile(loss=mcrmse,\n",
    "#               optimizer=keras.optimizers.Adam(learning_rate=initial_learning_rate),\n",
    "#               # metrics=['r2_score']\n",
    "#              )\n"
   ]
  },
  {
   "cell_type": "code",
   "execution_count": 20,
   "id": "d74f3bc4",
   "metadata": {
    "execution": {
     "iopub.execute_input": "2024-05-16T15:40:24.791027Z",
     "iopub.status.busy": "2024-05-16T15:40:24.790814Z",
     "iopub.status.idle": "2024-05-16T15:40:24.794711Z",
     "shell.execute_reply": "2024-05-16T15:40:24.793900Z"
    },
    "papermill": {
     "duration": 0.031818,
     "end_time": "2024-05-16T15:40:24.796634",
     "exception": false,
     "start_time": "2024-05-16T15:40:24.764816",
     "status": "completed"
    },
    "tags": []
   },
   "outputs": [],
   "source": [
    "# model.fit(train_dataset,\n",
    "#           epochs=10,\n",
    "#           validation_data=val_dataset,\n",
    "#           callbacks=[early_stopping],\n",
    "#           verbose=1)"
   ]
  },
  {
   "cell_type": "code",
   "execution_count": 21,
   "id": "80f28825",
   "metadata": {
    "execution": {
     "iopub.execute_input": "2024-05-16T15:40:24.846450Z",
     "iopub.status.busy": "2024-05-16T15:40:24.846246Z",
     "iopub.status.idle": "2024-05-16T15:40:24.849679Z",
     "shell.execute_reply": "2024-05-16T15:40:24.848935Z"
    },
    "papermill": {
     "duration": 0.030487,
     "end_time": "2024-05-16T15:40:24.851474",
     "exception": false,
     "start_time": "2024-05-16T15:40:24.820987",
     "status": "completed"
    },
    "tags": []
   },
   "outputs": [],
   "source": [
    "# Train the model"
   ]
  },
  {
   "cell_type": "code",
   "execution_count": 22,
   "id": "26d95ab8",
   "metadata": {
    "execution": {
     "iopub.execute_input": "2024-05-16T15:40:24.901465Z",
     "iopub.status.busy": "2024-05-16T15:40:24.901270Z",
     "iopub.status.idle": "2024-05-16T15:40:24.905307Z",
     "shell.execute_reply": "2024-05-16T15:40:24.904476Z"
    },
    "papermill": {
     "duration": 0.031232,
     "end_time": "2024-05-16T15:40:24.907326",
     "exception": false,
     "start_time": "2024-05-16T15:40:24.876094",
     "status": "completed"
    },
    "tags": []
   },
   "outputs": [],
   "source": [
    "# # Clear any logs from previous runs\n",
    "# # !rm -rf ./logs/\n",
    "# num_of_samples = 10\n",
    "\n",
    "# inputs = X_train['input_ids']\n",
    "# masks = X_train['attention_mask']\n",
    "\n",
    "# # Train the model\n",
    "\n",
    "# # model.load_weights('/kaggle/input/model-weights/saved_model_weights.weights.h5')\n",
    "# model.fit(x=[inputs, masks],\n",
    "#           y=Y_train,\n",
    "#           epochs=5,\n",
    "#           batch_size=16,\n",
    "#           validation_split=0.2,\n",
    "#           callbacks=[tensorboard_callback, early_stopping],\n",
    "#           verbose=2)\n",
    "\n",
    "# # Create the 'model' directory if it does not exist\n",
    "# if not os.path.exists('model'):\n",
    "#     os.makedirs('model')"
   ]
  },
  {
   "cell_type": "code",
   "execution_count": 23,
   "id": "77e288b2",
   "metadata": {
    "execution": {
     "iopub.execute_input": "2024-05-16T15:40:24.956686Z",
     "iopub.status.busy": "2024-05-16T15:40:24.956493Z",
     "iopub.status.idle": "2024-05-16T15:40:24.959932Z",
     "shell.execute_reply": "2024-05-16T15:40:24.959140Z"
    },
    "papermill": {
     "duration": 0.030281,
     "end_time": "2024-05-16T15:40:24.961874",
     "exception": false,
     "start_time": "2024-05-16T15:40:24.931593",
     "status": "completed"
    },
    "tags": []
   },
   "outputs": [],
   "source": [
    "# model.save_weights('model/saved_model_weights.weights.h5')"
   ]
  },
  {
   "cell_type": "code",
   "execution_count": 24,
   "id": "0a078864",
   "metadata": {
    "execution": {
     "iopub.execute_input": "2024-05-16T15:40:25.011534Z",
     "iopub.status.busy": "2024-05-16T15:40:25.011360Z",
     "iopub.status.idle": "2024-05-16T15:40:25.015851Z",
     "shell.execute_reply": "2024-05-16T15:40:25.015198Z"
    },
    "papermill": {
     "duration": 0.031417,
     "end_time": "2024-05-16T15:40:25.017645",
     "exception": false,
     "start_time": "2024-05-16T15:40:24.986228",
     "status": "completed"
    },
    "tags": []
   },
   "outputs": [],
   "source": [
    "# !rm -rf ./logs/fit"
   ]
  },
  {
   "cell_type": "code",
   "execution_count": 25,
   "id": "dd1c1f7f",
   "metadata": {
    "execution": {
     "iopub.execute_input": "2024-05-16T15:40:25.066966Z",
     "iopub.status.busy": "2024-05-16T15:40:25.066792Z",
     "iopub.status.idle": "2024-05-16T15:40:25.070183Z",
     "shell.execute_reply": "2024-05-16T15:40:25.069397Z"
    },
    "papermill": {
     "duration": 0.030084,
     "end_time": "2024-05-16T15:40:25.071985",
     "exception": false,
     "start_time": "2024-05-16T15:40:25.041901",
     "status": "completed"
    },
    "tags": []
   },
   "outputs": [],
   "source": [
    "# import shutil\n",
    "# # Zip the logs directory for downloading it locally \n",
    "# shutil.make_archive(\"/kaggle/working/logs\", \"zip\", \"./logs\")\n",
    "# shutil.make_archive(\"/kaggle/working/model\", \"zip\", \"./model\")"
   ]
  },
  {
   "cell_type": "code",
   "execution_count": 26,
   "id": "9f6b1496",
   "metadata": {
    "execution": {
     "iopub.execute_input": "2024-05-16T15:40:25.121883Z",
     "iopub.status.busy": "2024-05-16T15:40:25.121674Z",
     "iopub.status.idle": "2024-05-16T15:40:25.125251Z",
     "shell.execute_reply": "2024-05-16T15:40:25.124428Z"
    },
    "papermill": {
     "duration": 0.030431,
     "end_time": "2024-05-16T15:40:25.127039",
     "exception": false,
     "start_time": "2024-05-16T15:40:25.096608",
     "status": "completed"
    },
    "tags": []
   },
   "outputs": [],
   "source": [
    "# Load the TensorBoard notebook extension\n",
    "# %load_ext tensorboard"
   ]
  },
  {
   "cell_type": "code",
   "execution_count": 27,
   "id": "37bd9bac",
   "metadata": {
    "execution": {
     "iopub.execute_input": "2024-05-16T15:40:25.177175Z",
     "iopub.status.busy": "2024-05-16T15:40:25.176957Z",
     "iopub.status.idle": "2024-05-16T15:40:25.180489Z",
     "shell.execute_reply": "2024-05-16T15:40:25.179758Z"
    },
    "papermill": {
     "duration": 0.030961,
     "end_time": "2024-05-16T15:40:25.182465",
     "exception": false,
     "start_time": "2024-05-16T15:40:25.151504",
     "status": "completed"
    },
    "tags": []
   },
   "outputs": [],
   "source": [
    "# Reload the TensorBoard notebook extension if needed\n",
    "# %reload_ext tensorboard"
   ]
  },
  {
   "cell_type": "code",
   "execution_count": 28,
   "id": "2d6741fc",
   "metadata": {
    "execution": {
     "iopub.execute_input": "2024-05-16T15:40:25.232792Z",
     "iopub.status.busy": "2024-05-16T15:40:25.232557Z",
     "iopub.status.idle": "2024-05-16T15:40:25.236167Z",
     "shell.execute_reply": "2024-05-16T15:40:25.235432Z"
    },
    "papermill": {
     "duration": 0.030875,
     "end_time": "2024-05-16T15:40:25.238003",
     "exception": false,
     "start_time": "2024-05-16T15:40:25.207128",
     "status": "completed"
    },
    "tags": []
   },
   "outputs": [],
   "source": [
    "# http://localhost:6006/\n",
    "# %tensorboard --logdir logs/fit --port=6006"
   ]
  },
  {
   "cell_type": "code",
   "execution_count": 29,
   "id": "60b1e40d",
   "metadata": {
    "execution": {
     "iopub.execute_input": "2024-05-16T15:40:25.289544Z",
     "iopub.status.busy": "2024-05-16T15:40:25.289303Z",
     "iopub.status.idle": "2024-05-16T15:40:25.292917Z",
     "shell.execute_reply": "2024-05-16T15:40:25.292102Z"
    },
    "papermill": {
     "duration": 0.031211,
     "end_time": "2024-05-16T15:40:25.294790",
     "exception": false,
     "start_time": "2024-05-16T15:40:25.263579",
     "status": "completed"
    },
    "tags": []
   },
   "outputs": [],
   "source": [
    "# Demo of the model"
   ]
  },
  {
   "cell_type": "code",
   "execution_count": 30,
   "id": "51fd46aa",
   "metadata": {
    "execution": {
     "iopub.execute_input": "2024-05-16T15:40:25.345033Z",
     "iopub.status.busy": "2024-05-16T15:40:25.344833Z",
     "iopub.status.idle": "2024-05-16T15:40:25.348511Z",
     "shell.execute_reply": "2024-05-16T15:40:25.347673Z"
    },
    "papermill": {
     "duration": 0.03097,
     "end_time": "2024-05-16T15:40:25.350395",
     "exception": false,
     "start_time": "2024-05-16T15:40:25.319425",
     "status": "completed"
    },
    "tags": []
   },
   "outputs": [],
   "source": [
    "# model.load_weights('/kaggle/input/model-weights/saved_model_weights.weights.h5')"
   ]
  },
  {
   "cell_type": "code",
   "execution_count": 31,
   "id": "5633354a",
   "metadata": {
    "execution": {
     "iopub.execute_input": "2024-05-16T15:40:25.402516Z",
     "iopub.status.busy": "2024-05-16T15:40:25.402337Z",
     "iopub.status.idle": "2024-05-16T15:40:25.406365Z",
     "shell.execute_reply": "2024-05-16T15:40:25.405569Z"
    },
    "papermill": {
     "duration": 0.031584,
     "end_time": "2024-05-16T15:40:25.408132",
     "exception": false,
     "start_time": "2024-05-16T15:40:25.376548",
     "status": "completed"
    },
    "tags": []
   },
   "outputs": [],
   "source": [
    "# def eval_summary(prompt, question, summary):\n",
    "#     spell(summary)\n",
    "#     sample = prompt + sep + question + sep + summary\n",
    "#     tokenized_summary = tokenizer(sample,\n",
    "#                                   add_special_tokens=True,\n",
    "#                                   truncation=True,\n",
    "#                                   padding='max_length',\n",
    "#                                   return_tensors='tf',\n",
    "#                                   max_length=MAX_SUMMARY_LENGTH,\n",
    "#                                   return_attention_mask = True)\n",
    "\n",
    "#     output = model([tokenized_summary['input_ids'], tokenized_summary['attention_mask']])\n",
    "#     print(f\"Content: { output[0][0]} \\nWording: {output[0][1]}\")\n",
    "#     # return output[0][0], output[0][1]"
   ]
  },
  {
   "cell_type": "code",
   "execution_count": 32,
   "id": "7ada7ace",
   "metadata": {
    "execution": {
     "iopub.execute_input": "2024-05-16T15:40:25.457802Z",
     "iopub.status.busy": "2024-05-16T15:40:25.457596Z",
     "iopub.status.idle": "2024-05-16T15:40:25.461152Z",
     "shell.execute_reply": "2024-05-16T15:40:25.460478Z"
    },
    "papermill": {
     "duration": 0.030627,
     "end_time": "2024-05-16T15:40:25.462992",
     "exception": false,
     "start_time": "2024-05-16T15:40:25.432365",
     "status": "completed"
    },
    "tags": []
   },
   "outputs": [],
   "source": [
    "# Input Demo \n",
    "# sample_index = 8\n",
    "# prompt = train['prompt_title'][sample_index]\n",
    "# question = train['prompt_question'][sample_index]\n",
    "# summary = train['text'][sample_index]\n",
    "# print(f\"prompt: {prompt}\\n\")\n",
    "# print(f\"question: {question}\\n\")\n",
    "# print(f\"summary: {summary}\")"
   ]
  },
  {
   "cell_type": "code",
   "execution_count": 33,
   "id": "0d2d6630",
   "metadata": {
    "execution": {
     "iopub.execute_input": "2024-05-16T15:40:25.513030Z",
     "iopub.status.busy": "2024-05-16T15:40:25.512594Z",
     "iopub.status.idle": "2024-05-16T15:40:25.516084Z",
     "shell.execute_reply": "2024-05-16T15:40:25.515225Z"
    },
    "papermill": {
     "duration": 0.030427,
     "end_time": "2024-05-16T15:40:25.517912",
     "exception": false,
     "start_time": "2024-05-16T15:40:25.487485",
     "status": "completed"
    },
    "tags": []
   },
   "outputs": [],
   "source": [
    "# # Output of the model\n",
    "# print('Predicted Scores:')\n",
    "# eval_summary(prompt, question, summary)\n",
    "\n",
    "# # Real Scores\n",
    "# print(f\"\\nReal Scores:\\nContent: {train['content'][sample_index]}\\nWording: {train['wording'][sample_index]}\")"
   ]
  }
 ],
 "metadata": {
  "kaggle": {
   "accelerator": "gpu",
   "dataSources": [
    {
     "databundleVersionId": 6201832,
     "sourceId": 53482,
     "sourceType": "competition"
    },
    {
     "datasetId": 4812209,
     "sourceId": 8139549,
     "sourceType": "datasetVersion"
    },
    {
     "datasetId": 4812212,
     "sourceId": 8139552,
     "sourceType": "datasetVersion"
    },
    {
     "datasetId": 4817190,
     "sourceId": 8146152,
     "sourceType": "datasetVersion"
    },
    {
     "datasetId": 5013476,
     "sourceId": 8421200,
     "sourceType": "datasetVersion"
    }
   ],
   "dockerImageVersionId": 30665,
   "isGpuEnabled": true,
   "isInternetEnabled": true,
   "language": "python",
   "sourceType": "notebook"
  },
  "kernelspec": {
   "display_name": "Python 3",
   "language": "python",
   "name": "python3"
  },
  "language_info": {
   "codemirror_mode": {
    "name": "ipython",
    "version": 3
   },
   "file_extension": ".py",
   "mimetype": "text/x-python",
   "name": "python",
   "nbconvert_exporter": "python",
   "pygments_lexer": "ipython3",
   "version": "3.10.13"
  },
  "papermill": {
   "default_parameters": {},
   "duration": 109.119668,
   "end_time": "2024-05-16T15:40:29.014408",
   "environment_variables": {},
   "exception": null,
   "input_path": "__notebook__.ipynb",
   "output_path": "__notebook__.ipynb",
   "parameters": {},
   "start_time": "2024-05-16T15:38:39.894740",
   "version": "2.5.0"
  },
  "widgets": {
   "application/vnd.jupyter.widget-state+json": {
    "state": {
     "059a11eda62448da981f7b2667b94637": {
      "model_module": "@jupyter-widgets/controls",
      "model_module_version": "1.5.0",
      "model_name": "DescriptionStyleModel",
      "state": {
       "_model_module": "@jupyter-widgets/controls",
       "_model_module_version": "1.5.0",
       "_model_name": "DescriptionStyleModel",
       "_view_count": null,
       "_view_module": "@jupyter-widgets/base",
       "_view_module_version": "1.2.0",
       "_view_name": "StyleView",
       "description_width": ""
      }
     },
     "0d4e90cc3beb40b890ffd3978dfb22d8": {
      "model_module": "@jupyter-widgets/base",
      "model_module_version": "1.2.0",
      "model_name": "LayoutModel",
      "state": {
       "_model_module": "@jupyter-widgets/base",
       "_model_module_version": "1.2.0",
       "_model_name": "LayoutModel",
       "_view_count": null,
       "_view_module": "@jupyter-widgets/base",
       "_view_module_version": "1.2.0",
       "_view_name": "LayoutView",
       "align_content": null,
       "align_items": null,
       "align_self": null,
       "border": null,
       "bottom": null,
       "display": null,
       "flex": null,
       "flex_flow": null,
       "grid_area": null,
       "grid_auto_columns": null,
       "grid_auto_flow": null,
       "grid_auto_rows": null,
       "grid_column": null,
       "grid_gap": null,
       "grid_row": null,
       "grid_template_areas": null,
       "grid_template_columns": null,
       "grid_template_rows": null,
       "height": null,
       "justify_content": null,
       "justify_items": null,
       "left": null,
       "margin": null,
       "max_height": null,
       "max_width": null,
       "min_height": null,
       "min_width": null,
       "object_fit": null,
       "object_position": null,
       "order": null,
       "overflow": null,
       "overflow_x": null,
       "overflow_y": null,
       "padding": null,
       "right": null,
       "top": null,
       "visibility": null,
       "width": null
      }
     },
     "150f7c2a80124dad8408945c7c4a0fce": {
      "model_module": "@jupyter-widgets/controls",
      "model_module_version": "1.5.0",
      "model_name": "ProgressStyleModel",
      "state": {
       "_model_module": "@jupyter-widgets/controls",
       "_model_module_version": "1.5.0",
       "_model_name": "ProgressStyleModel",
       "_view_count": null,
       "_view_module": "@jupyter-widgets/base",
       "_view_module_version": "1.2.0",
       "_view_name": "StyleView",
       "bar_color": null,
       "description_width": ""
      }
     },
     "15104f9159d1410eb85b6379bc0756c1": {
      "model_module": "@jupyter-widgets/controls",
      "model_module_version": "1.5.0",
      "model_name": "HBoxModel",
      "state": {
       "_dom_classes": [],
       "_model_module": "@jupyter-widgets/controls",
       "_model_module_version": "1.5.0",
       "_model_name": "HBoxModel",
       "_view_count": null,
       "_view_module": "@jupyter-widgets/controls",
       "_view_module_version": "1.5.0",
       "_view_name": "HBoxView",
       "box_style": "",
       "children": [
        "IPY_MODEL_ff9e6813dd3d499f8c44902f3806b49c",
        "IPY_MODEL_588ef8f9110e4ba8897785a7816b52a6",
        "IPY_MODEL_afa499e764d4423fbc616d6a8de52fd0"
       ],
       "layout": "IPY_MODEL_deefef886f9c43cf88f6f162100f2e3e"
      }
     },
     "1982a9459b644ddf93b0670b17ed6427": {
      "model_module": "@jupyter-widgets/base",
      "model_module_version": "1.2.0",
      "model_name": "LayoutModel",
      "state": {
       "_model_module": "@jupyter-widgets/base",
       "_model_module_version": "1.2.0",
       "_model_name": "LayoutModel",
       "_view_count": null,
       "_view_module": "@jupyter-widgets/base",
       "_view_module_version": "1.2.0",
       "_view_name": "LayoutView",
       "align_content": null,
       "align_items": null,
       "align_self": null,
       "border": null,
       "bottom": null,
       "display": null,
       "flex": null,
       "flex_flow": null,
       "grid_area": null,
       "grid_auto_columns": null,
       "grid_auto_flow": null,
       "grid_auto_rows": null,
       "grid_column": null,
       "grid_gap": null,
       "grid_row": null,
       "grid_template_areas": null,
       "grid_template_columns": null,
       "grid_template_rows": null,
       "height": null,
       "justify_content": null,
       "justify_items": null,
       "left": null,
       "margin": null,
       "max_height": null,
       "max_width": null,
       "min_height": null,
       "min_width": null,
       "object_fit": null,
       "object_position": null,
       "order": null,
       "overflow": null,
       "overflow_x": null,
       "overflow_y": null,
       "padding": null,
       "right": null,
       "top": null,
       "visibility": null,
       "width": null
      }
     },
     "1b2c1961d94c4a07b162c8e1f1f4ea8f": {
      "model_module": "@jupyter-widgets/controls",
      "model_module_version": "1.5.0",
      "model_name": "ProgressStyleModel",
      "state": {
       "_model_module": "@jupyter-widgets/controls",
       "_model_module_version": "1.5.0",
       "_model_name": "ProgressStyleModel",
       "_view_count": null,
       "_view_module": "@jupyter-widgets/base",
       "_view_module_version": "1.2.0",
       "_view_name": "StyleView",
       "bar_color": null,
       "description_width": ""
      }
     },
     "1e281edfb4944800b70ca3e7b078cd13": {
      "model_module": "@jupyter-widgets/controls",
      "model_module_version": "1.5.0",
      "model_name": "DescriptionStyleModel",
      "state": {
       "_model_module": "@jupyter-widgets/controls",
       "_model_module_version": "1.5.0",
       "_model_name": "DescriptionStyleModel",
       "_view_count": null,
       "_view_module": "@jupyter-widgets/base",
       "_view_module_version": "1.2.0",
       "_view_name": "StyleView",
       "description_width": ""
      }
     },
     "1f7d29516b7a46dcb0fa01415173e1df": {
      "model_module": "@jupyter-widgets/controls",
      "model_module_version": "1.5.0",
      "model_name": "ProgressStyleModel",
      "state": {
       "_model_module": "@jupyter-widgets/controls",
       "_model_module_version": "1.5.0",
       "_model_name": "ProgressStyleModel",
       "_view_count": null,
       "_view_module": "@jupyter-widgets/base",
       "_view_module_version": "1.2.0",
       "_view_name": "StyleView",
       "bar_color": null,
       "description_width": ""
      }
     },
     "25126573d458497987981721450a08ae": {
      "model_module": "@jupyter-widgets/base",
      "model_module_version": "1.2.0",
      "model_name": "LayoutModel",
      "state": {
       "_model_module": "@jupyter-widgets/base",
       "_model_module_version": "1.2.0",
       "_model_name": "LayoutModel",
       "_view_count": null,
       "_view_module": "@jupyter-widgets/base",
       "_view_module_version": "1.2.0",
       "_view_name": "LayoutView",
       "align_content": null,
       "align_items": null,
       "align_self": null,
       "border": null,
       "bottom": null,
       "display": null,
       "flex": null,
       "flex_flow": null,
       "grid_area": null,
       "grid_auto_columns": null,
       "grid_auto_flow": null,
       "grid_auto_rows": null,
       "grid_column": null,
       "grid_gap": null,
       "grid_row": null,
       "grid_template_areas": null,
       "grid_template_columns": null,
       "grid_template_rows": null,
       "height": null,
       "justify_content": null,
       "justify_items": null,
       "left": null,
       "margin": null,
       "max_height": null,
       "max_width": null,
       "min_height": null,
       "min_width": null,
       "object_fit": null,
       "object_position": null,
       "order": null,
       "overflow": null,
       "overflow_x": null,
       "overflow_y": null,
       "padding": null,
       "right": null,
       "top": null,
       "visibility": null,
       "width": null
      }
     },
     "2c8166010478471ebcfeaff488254cc3": {
      "model_module": "@jupyter-widgets/base",
      "model_module_version": "1.2.0",
      "model_name": "LayoutModel",
      "state": {
       "_model_module": "@jupyter-widgets/base",
       "_model_module_version": "1.2.0",
       "_model_name": "LayoutModel",
       "_view_count": null,
       "_view_module": "@jupyter-widgets/base",
       "_view_module_version": "1.2.0",
       "_view_name": "LayoutView",
       "align_content": null,
       "align_items": null,
       "align_self": null,
       "border": null,
       "bottom": null,
       "display": null,
       "flex": null,
       "flex_flow": null,
       "grid_area": null,
       "grid_auto_columns": null,
       "grid_auto_flow": null,
       "grid_auto_rows": null,
       "grid_column": null,
       "grid_gap": null,
       "grid_row": null,
       "grid_template_areas": null,
       "grid_template_columns": null,
       "grid_template_rows": null,
       "height": null,
       "justify_content": null,
       "justify_items": null,
       "left": null,
       "margin": null,
       "max_height": null,
       "max_width": null,
       "min_height": null,
       "min_width": null,
       "object_fit": null,
       "object_position": null,
       "order": null,
       "overflow": null,
       "overflow_x": null,
       "overflow_y": null,
       "padding": null,
       "right": null,
       "top": null,
       "visibility": null,
       "width": null
      }
     },
     "2ed7fd040a494b91bcb6b11bf17446a7": {
      "model_module": "@jupyter-widgets/controls",
      "model_module_version": "1.5.0",
      "model_name": "DescriptionStyleModel",
      "state": {
       "_model_module": "@jupyter-widgets/controls",
       "_model_module_version": "1.5.0",
       "_model_name": "DescriptionStyleModel",
       "_view_count": null,
       "_view_module": "@jupyter-widgets/base",
       "_view_module_version": "1.2.0",
       "_view_name": "StyleView",
       "description_width": ""
      }
     },
     "3c55a6f3b2d6453d92734e1c2c6ccf3d": {
      "model_module": "@jupyter-widgets/base",
      "model_module_version": "1.2.0",
      "model_name": "LayoutModel",
      "state": {
       "_model_module": "@jupyter-widgets/base",
       "_model_module_version": "1.2.0",
       "_model_name": "LayoutModel",
       "_view_count": null,
       "_view_module": "@jupyter-widgets/base",
       "_view_module_version": "1.2.0",
       "_view_name": "LayoutView",
       "align_content": null,
       "align_items": null,
       "align_self": null,
       "border": null,
       "bottom": null,
       "display": null,
       "flex": null,
       "flex_flow": null,
       "grid_area": null,
       "grid_auto_columns": null,
       "grid_auto_flow": null,
       "grid_auto_rows": null,
       "grid_column": null,
       "grid_gap": null,
       "grid_row": null,
       "grid_template_areas": null,
       "grid_template_columns": null,
       "grid_template_rows": null,
       "height": null,
       "justify_content": null,
       "justify_items": null,
       "left": null,
       "margin": null,
       "max_height": null,
       "max_width": null,
       "min_height": null,
       "min_width": null,
       "object_fit": null,
       "object_position": null,
       "order": null,
       "overflow": null,
       "overflow_x": null,
       "overflow_y": null,
       "padding": null,
       "right": null,
       "top": null,
       "visibility": null,
       "width": null
      }
     },
     "3f8ee3fcf5ed47f08eb3eeaff0647d5e": {
      "model_module": "@jupyter-widgets/base",
      "model_module_version": "1.2.0",
      "model_name": "LayoutModel",
      "state": {
       "_model_module": "@jupyter-widgets/base",
       "_model_module_version": "1.2.0",
       "_model_name": "LayoutModel",
       "_view_count": null,
       "_view_module": "@jupyter-widgets/base",
       "_view_module_version": "1.2.0",
       "_view_name": "LayoutView",
       "align_content": null,
       "align_items": null,
       "align_self": null,
       "border": null,
       "bottom": null,
       "display": null,
       "flex": null,
       "flex_flow": null,
       "grid_area": null,
       "grid_auto_columns": null,
       "grid_auto_flow": null,
       "grid_auto_rows": null,
       "grid_column": null,
       "grid_gap": null,
       "grid_row": null,
       "grid_template_areas": null,
       "grid_template_columns": null,
       "grid_template_rows": null,
       "height": null,
       "justify_content": null,
       "justify_items": null,
       "left": null,
       "margin": null,
       "max_height": null,
       "max_width": null,
       "min_height": null,
       "min_width": null,
       "object_fit": null,
       "object_position": null,
       "order": null,
       "overflow": null,
       "overflow_x": null,
       "overflow_y": null,
       "padding": null,
       "right": null,
       "top": null,
       "visibility": null,
       "width": null
      }
     },
     "42cdc6d0d53e4ab298128b8581bf4c3a": {
      "model_module": "@jupyter-widgets/controls",
      "model_module_version": "1.5.0",
      "model_name": "HTMLModel",
      "state": {
       "_dom_classes": [],
       "_model_module": "@jupyter-widgets/controls",
       "_model_module_version": "1.5.0",
       "_model_name": "HTMLModel",
       "_view_count": null,
       "_view_module": "@jupyter-widgets/controls",
       "_view_module_version": "1.5.0",
       "_view_name": "HTMLView",
       "description": "",
       "description_tooltip": null,
       "layout": "IPY_MODEL_2c8166010478471ebcfeaff488254cc3",
       "placeholder": "​",
       "style": "IPY_MODEL_059a11eda62448da981f7b2667b94637",
       "value": " 2.46M/2.46M [00:00&lt;00:00, 3.68MB/s]"
      }
     },
     "464d8379cbd842b6b0c919aa12c237ad": {
      "model_module": "@jupyter-widgets/controls",
      "model_module_version": "1.5.0",
      "model_name": "HTMLModel",
      "state": {
       "_dom_classes": [],
       "_model_module": "@jupyter-widgets/controls",
       "_model_module_version": "1.5.0",
       "_model_name": "HTMLModel",
       "_view_count": null,
       "_view_module": "@jupyter-widgets/controls",
       "_view_module_version": "1.5.0",
       "_view_name": "HTMLView",
       "description": "",
       "description_tooltip": null,
       "layout": "IPY_MODEL_1982a9459b644ddf93b0670b17ed6427",
       "placeholder": "​",
       "style": "IPY_MODEL_a0ed8c5740e846b7912490fe3541991c",
       "value": "spm.model: 100%"
      }
     },
     "57d07143c3b54fb2baad23f96e0874aa": {
      "model_module": "@jupyter-widgets/controls",
      "model_module_version": "1.5.0",
      "model_name": "ProgressStyleModel",
      "state": {
       "_model_module": "@jupyter-widgets/controls",
       "_model_module_version": "1.5.0",
       "_model_name": "ProgressStyleModel",
       "_view_count": null,
       "_view_module": "@jupyter-widgets/base",
       "_view_module_version": "1.2.0",
       "_view_name": "StyleView",
       "bar_color": null,
       "description_width": ""
      }
     },
     "588ef8f9110e4ba8897785a7816b52a6": {
      "model_module": "@jupyter-widgets/controls",
      "model_module_version": "1.5.0",
      "model_name": "FloatProgressModel",
      "state": {
       "_dom_classes": [],
       "_model_module": "@jupyter-widgets/controls",
       "_model_module_version": "1.5.0",
       "_model_name": "FloatProgressModel",
       "_view_count": null,
       "_view_module": "@jupyter-widgets/controls",
       "_view_module_version": "1.5.0",
       "_view_name": "ProgressView",
       "bar_style": "success",
       "description": "",
       "description_tooltip": null,
       "layout": "IPY_MODEL_0d4e90cc3beb40b890ffd3978dfb22d8",
       "max": 1736592160.0,
       "min": 0.0,
       "orientation": "horizontal",
       "style": "IPY_MODEL_150f7c2a80124dad8408945c7c4a0fce",
       "value": 1736592160.0
      }
     },
     "640eb7d806d7408ba3ba560fa99b9142": {
      "model_module": "@jupyter-widgets/base",
      "model_module_version": "1.2.0",
      "model_name": "LayoutModel",
      "state": {
       "_model_module": "@jupyter-widgets/base",
       "_model_module_version": "1.2.0",
       "_model_name": "LayoutModel",
       "_view_count": null,
       "_view_module": "@jupyter-widgets/base",
       "_view_module_version": "1.2.0",
       "_view_name": "LayoutView",
       "align_content": null,
       "align_items": null,
       "align_self": null,
       "border": null,
       "bottom": null,
       "display": null,
       "flex": null,
       "flex_flow": null,
       "grid_area": null,
       "grid_auto_columns": null,
       "grid_auto_flow": null,
       "grid_auto_rows": null,
       "grid_column": null,
       "grid_gap": null,
       "grid_row": null,
       "grid_template_areas": null,
       "grid_template_columns": null,
       "grid_template_rows": null,
       "height": null,
       "justify_content": null,
       "justify_items": null,
       "left": null,
       "margin": null,
       "max_height": null,
       "max_width": null,
       "min_height": null,
       "min_width": null,
       "object_fit": null,
       "object_position": null,
       "order": null,
       "overflow": null,
       "overflow_x": null,
       "overflow_y": null,
       "padding": null,
       "right": null,
       "top": null,
       "visibility": null,
       "width": null
      }
     },
     "73ed4c4fc9104779b8fdb3fc52e64f4e": {
      "model_module": "@jupyter-widgets/controls",
      "model_module_version": "1.5.0",
      "model_name": "HTMLModel",
      "state": {
       "_dom_classes": [],
       "_model_module": "@jupyter-widgets/controls",
       "_model_module_version": "1.5.0",
       "_model_name": "HTMLModel",
       "_view_count": null,
       "_view_module": "@jupyter-widgets/controls",
       "_view_module_version": "1.5.0",
       "_view_name": "HTMLView",
       "description": "",
       "description_tooltip": null,
       "layout": "IPY_MODEL_aa4f2028d4be4adfb1389b240b2c7ee0",
       "placeholder": "​",
       "style": "IPY_MODEL_cd53dfa32e15440aadac97ed88dbec02",
       "value": " 580/580 [00:00&lt;00:00, 52.0kB/s]"
      }
     },
     "76c12b9e7502419da6c5d8afae0b45ab": {
      "model_module": "@jupyter-widgets/base",
      "model_module_version": "1.2.0",
      "model_name": "LayoutModel",
      "state": {
       "_model_module": "@jupyter-widgets/base",
       "_model_module_version": "1.2.0",
       "_model_name": "LayoutModel",
       "_view_count": null,
       "_view_module": "@jupyter-widgets/base",
       "_view_module_version": "1.2.0",
       "_view_name": "LayoutView",
       "align_content": null,
       "align_items": null,
       "align_self": null,
       "border": null,
       "bottom": null,
       "display": null,
       "flex": null,
       "flex_flow": null,
       "grid_area": null,
       "grid_auto_columns": null,
       "grid_auto_flow": null,
       "grid_auto_rows": null,
       "grid_column": null,
       "grid_gap": null,
       "grid_row": null,
       "grid_template_areas": null,
       "grid_template_columns": null,
       "grid_template_rows": null,
       "height": null,
       "justify_content": null,
       "justify_items": null,
       "left": null,
       "margin": null,
       "max_height": null,
       "max_width": null,
       "min_height": null,
       "min_width": null,
       "object_fit": null,
       "object_position": null,
       "order": null,
       "overflow": null,
       "overflow_x": null,
       "overflow_y": null,
       "padding": null,
       "right": null,
       "top": null,
       "visibility": null,
       "width": null
      }
     },
     "8eb63820b62d49ea9bc8059798aabfb9": {
      "model_module": "@jupyter-widgets/controls",
      "model_module_version": "1.5.0",
      "model_name": "HBoxModel",
      "state": {
       "_dom_classes": [],
       "_model_module": "@jupyter-widgets/controls",
       "_model_module_version": "1.5.0",
       "_model_name": "HBoxModel",
       "_view_count": null,
       "_view_module": "@jupyter-widgets/controls",
       "_view_module_version": "1.5.0",
       "_view_name": "HBoxView",
       "box_style": "",
       "children": [
        "IPY_MODEL_464d8379cbd842b6b0c919aa12c237ad",
        "IPY_MODEL_d006714a85f746a2a1485b6e1faf7003",
        "IPY_MODEL_42cdc6d0d53e4ab298128b8581bf4c3a"
       ],
       "layout": "IPY_MODEL_25126573d458497987981721450a08ae"
      }
     },
     "999bd4cca8c94c3a8c59da5cb58d8c2e": {
      "model_module": "@jupyter-widgets/base",
      "model_module_version": "1.2.0",
      "model_name": "LayoutModel",
      "state": {
       "_model_module": "@jupyter-widgets/base",
       "_model_module_version": "1.2.0",
       "_model_name": "LayoutModel",
       "_view_count": null,
       "_view_module": "@jupyter-widgets/base",
       "_view_module_version": "1.2.0",
       "_view_name": "LayoutView",
       "align_content": null,
       "align_items": null,
       "align_self": null,
       "border": null,
       "bottom": null,
       "display": null,
       "flex": null,
       "flex_flow": null,
       "grid_area": null,
       "grid_auto_columns": null,
       "grid_auto_flow": null,
       "grid_auto_rows": null,
       "grid_column": null,
       "grid_gap": null,
       "grid_row": null,
       "grid_template_areas": null,
       "grid_template_columns": null,
       "grid_template_rows": null,
       "height": null,
       "justify_content": null,
       "justify_items": null,
       "left": null,
       "margin": null,
       "max_height": null,
       "max_width": null,
       "min_height": null,
       "min_width": null,
       "object_fit": null,
       "object_position": null,
       "order": null,
       "overflow": null,
       "overflow_x": null,
       "overflow_y": null,
       "padding": null,
       "right": null,
       "top": null,
       "visibility": null,
       "width": null
      }
     },
     "9ae4657f98844aa686e0a73f6bb69972": {
      "model_module": "@jupyter-widgets/controls",
      "model_module_version": "1.5.0",
      "model_name": "HBoxModel",
      "state": {
       "_dom_classes": [],
       "_model_module": "@jupyter-widgets/controls",
       "_model_module_version": "1.5.0",
       "_model_name": "HBoxModel",
       "_view_count": null,
       "_view_module": "@jupyter-widgets/controls",
       "_view_module_version": "1.5.0",
       "_view_name": "HBoxView",
       "box_style": "",
       "children": [
        "IPY_MODEL_efc7d8e9f3cc457f93faf7367ab86cd3",
        "IPY_MODEL_f37802e035ff44d181776f86eabe948d",
        "IPY_MODEL_a915e75f5ed847a7b44823aadb68b8e3"
       ],
       "layout": "IPY_MODEL_9cc123d4a6da4ac9bf37029593171ca6"
      }
     },
     "9cc123d4a6da4ac9bf37029593171ca6": {
      "model_module": "@jupyter-widgets/base",
      "model_module_version": "1.2.0",
      "model_name": "LayoutModel",
      "state": {
       "_model_module": "@jupyter-widgets/base",
       "_model_module_version": "1.2.0",
       "_model_name": "LayoutModel",
       "_view_count": null,
       "_view_module": "@jupyter-widgets/base",
       "_view_module_version": "1.2.0",
       "_view_name": "LayoutView",
       "align_content": null,
       "align_items": null,
       "align_self": null,
       "border": null,
       "bottom": null,
       "display": null,
       "flex": null,
       "flex_flow": null,
       "grid_area": null,
       "grid_auto_columns": null,
       "grid_auto_flow": null,
       "grid_auto_rows": null,
       "grid_column": null,
       "grid_gap": null,
       "grid_row": null,
       "grid_template_areas": null,
       "grid_template_columns": null,
       "grid_template_rows": null,
       "height": null,
       "justify_content": null,
       "justify_items": null,
       "left": null,
       "margin": null,
       "max_height": null,
       "max_width": null,
       "min_height": null,
       "min_width": null,
       "object_fit": null,
       "object_position": null,
       "order": null,
       "overflow": null,
       "overflow_x": null,
       "overflow_y": null,
       "padding": null,
       "right": null,
       "top": null,
       "visibility": null,
       "width": null
      }
     },
     "9d8022fde15349cf92f52a24eac326ed": {
      "model_module": "@jupyter-widgets/base",
      "model_module_version": "1.2.0",
      "model_name": "LayoutModel",
      "state": {
       "_model_module": "@jupyter-widgets/base",
       "_model_module_version": "1.2.0",
       "_model_name": "LayoutModel",
       "_view_count": null,
       "_view_module": "@jupyter-widgets/base",
       "_view_module_version": "1.2.0",
       "_view_name": "LayoutView",
       "align_content": null,
       "align_items": null,
       "align_self": null,
       "border": null,
       "bottom": null,
       "display": null,
       "flex": null,
       "flex_flow": null,
       "grid_area": null,
       "grid_auto_columns": null,
       "grid_auto_flow": null,
       "grid_auto_rows": null,
       "grid_column": null,
       "grid_gap": null,
       "grid_row": null,
       "grid_template_areas": null,
       "grid_template_columns": null,
       "grid_template_rows": null,
       "height": null,
       "justify_content": null,
       "justify_items": null,
       "left": null,
       "margin": null,
       "max_height": null,
       "max_width": null,
       "min_height": null,
       "min_width": null,
       "object_fit": null,
       "object_position": null,
       "order": null,
       "overflow": null,
       "overflow_x": null,
       "overflow_y": null,
       "padding": null,
       "right": null,
       "top": null,
       "visibility": null,
       "width": null
      }
     },
     "a0ed8c5740e846b7912490fe3541991c": {
      "model_module": "@jupyter-widgets/controls",
      "model_module_version": "1.5.0",
      "model_name": "DescriptionStyleModel",
      "state": {
       "_model_module": "@jupyter-widgets/controls",
       "_model_module_version": "1.5.0",
       "_model_name": "DescriptionStyleModel",
       "_view_count": null,
       "_view_module": "@jupyter-widgets/base",
       "_view_module_version": "1.2.0",
       "_view_name": "StyleView",
       "description_width": ""
      }
     },
     "a915e75f5ed847a7b44823aadb68b8e3": {
      "model_module": "@jupyter-widgets/controls",
      "model_module_version": "1.5.0",
      "model_name": "HTMLModel",
      "state": {
       "_dom_classes": [],
       "_model_module": "@jupyter-widgets/controls",
       "_model_module_version": "1.5.0",
       "_model_name": "HTMLModel",
       "_view_count": null,
       "_view_module": "@jupyter-widgets/controls",
       "_view_module_version": "1.5.0",
       "_view_name": "HTMLView",
       "description": "",
       "description_tooltip": null,
       "layout": "IPY_MODEL_640eb7d806d7408ba3ba560fa99b9142",
       "placeholder": "​",
       "style": "IPY_MODEL_1e281edfb4944800b70ca3e7b078cd13",
       "value": " 52.0/52.0 [00:00&lt;00:00, 4.37kB/s]"
      }
     },
     "aa1ceb8e11cc412ea3062b14dcb51319": {
      "model_module": "@jupyter-widgets/controls",
      "model_module_version": "1.5.0",
      "model_name": "FloatProgressModel",
      "state": {
       "_dom_classes": [],
       "_model_module": "@jupyter-widgets/controls",
       "_model_module_version": "1.5.0",
       "_model_name": "FloatProgressModel",
       "_view_count": null,
       "_view_module": "@jupyter-widgets/controls",
       "_view_module_version": "1.5.0",
       "_view_name": "ProgressView",
       "bar_style": "success",
       "description": "",
       "description_tooltip": null,
       "layout": "IPY_MODEL_b3852559827e4748844d3b2927447926",
       "max": 580.0,
       "min": 0.0,
       "orientation": "horizontal",
       "style": "IPY_MODEL_1b2c1961d94c4a07b162c8e1f1f4ea8f",
       "value": 580.0
      }
     },
     "aa4f2028d4be4adfb1389b240b2c7ee0": {
      "model_module": "@jupyter-widgets/base",
      "model_module_version": "1.2.0",
      "model_name": "LayoutModel",
      "state": {
       "_model_module": "@jupyter-widgets/base",
       "_model_module_version": "1.2.0",
       "_model_name": "LayoutModel",
       "_view_count": null,
       "_view_module": "@jupyter-widgets/base",
       "_view_module_version": "1.2.0",
       "_view_name": "LayoutView",
       "align_content": null,
       "align_items": null,
       "align_self": null,
       "border": null,
       "bottom": null,
       "display": null,
       "flex": null,
       "flex_flow": null,
       "grid_area": null,
       "grid_auto_columns": null,
       "grid_auto_flow": null,
       "grid_auto_rows": null,
       "grid_column": null,
       "grid_gap": null,
       "grid_row": null,
       "grid_template_areas": null,
       "grid_template_columns": null,
       "grid_template_rows": null,
       "height": null,
       "justify_content": null,
       "justify_items": null,
       "left": null,
       "margin": null,
       "max_height": null,
       "max_width": null,
       "min_height": null,
       "min_width": null,
       "object_fit": null,
       "object_position": null,
       "order": null,
       "overflow": null,
       "overflow_x": null,
       "overflow_y": null,
       "padding": null,
       "right": null,
       "top": null,
       "visibility": null,
       "width": null
      }
     },
     "ad398d8a95ab459abdfa03879da117ba": {
      "model_module": "@jupyter-widgets/controls",
      "model_module_version": "1.5.0",
      "model_name": "DescriptionStyleModel",
      "state": {
       "_model_module": "@jupyter-widgets/controls",
       "_model_module_version": "1.5.0",
       "_model_name": "DescriptionStyleModel",
       "_view_count": null,
       "_view_module": "@jupyter-widgets/base",
       "_view_module_version": "1.2.0",
       "_view_name": "StyleView",
       "description_width": ""
      }
     },
     "afa499e764d4423fbc616d6a8de52fd0": {
      "model_module": "@jupyter-widgets/controls",
      "model_module_version": "1.5.0",
      "model_name": "HTMLModel",
      "state": {
       "_dom_classes": [],
       "_model_module": "@jupyter-widgets/controls",
       "_model_module_version": "1.5.0",
       "_model_name": "HTMLModel",
       "_view_count": null,
       "_view_module": "@jupyter-widgets/controls",
       "_view_module_version": "1.5.0",
       "_view_name": "HTMLView",
       "description": "",
       "description_tooltip": null,
       "layout": "IPY_MODEL_e8b1ba7cf2354528ab658faf56c8985f",
       "placeholder": "​",
       "style": "IPY_MODEL_c4ef64c1429c4d049c4b952e1906bf5e",
       "value": " 1.74G/1.74G [00:41&lt;00:00, 42.6MB/s]"
      }
     },
     "b3852559827e4748844d3b2927447926": {
      "model_module": "@jupyter-widgets/base",
      "model_module_version": "1.2.0",
      "model_name": "LayoutModel",
      "state": {
       "_model_module": "@jupyter-widgets/base",
       "_model_module_version": "1.2.0",
       "_model_name": "LayoutModel",
       "_view_count": null,
       "_view_module": "@jupyter-widgets/base",
       "_view_module_version": "1.2.0",
       "_view_name": "LayoutView",
       "align_content": null,
       "align_items": null,
       "align_self": null,
       "border": null,
       "bottom": null,
       "display": null,
       "flex": null,
       "flex_flow": null,
       "grid_area": null,
       "grid_auto_columns": null,
       "grid_auto_flow": null,
       "grid_auto_rows": null,
       "grid_column": null,
       "grid_gap": null,
       "grid_row": null,
       "grid_template_areas": null,
       "grid_template_columns": null,
       "grid_template_rows": null,
       "height": null,
       "justify_content": null,
       "justify_items": null,
       "left": null,
       "margin": null,
       "max_height": null,
       "max_width": null,
       "min_height": null,
       "min_width": null,
       "object_fit": null,
       "object_position": null,
       "order": null,
       "overflow": null,
       "overflow_x": null,
       "overflow_y": null,
       "padding": null,
       "right": null,
       "top": null,
       "visibility": null,
       "width": null
      }
     },
     "ba8f192523cf4f3d81fe72f0c6b16060": {
      "model_module": "@jupyter-widgets/base",
      "model_module_version": "1.2.0",
      "model_name": "LayoutModel",
      "state": {
       "_model_module": "@jupyter-widgets/base",
       "_model_module_version": "1.2.0",
       "_model_name": "LayoutModel",
       "_view_count": null,
       "_view_module": "@jupyter-widgets/base",
       "_view_module_version": "1.2.0",
       "_view_name": "LayoutView",
       "align_content": null,
       "align_items": null,
       "align_self": null,
       "border": null,
       "bottom": null,
       "display": null,
       "flex": null,
       "flex_flow": null,
       "grid_area": null,
       "grid_auto_columns": null,
       "grid_auto_flow": null,
       "grid_auto_rows": null,
       "grid_column": null,
       "grid_gap": null,
       "grid_row": null,
       "grid_template_areas": null,
       "grid_template_columns": null,
       "grid_template_rows": null,
       "height": null,
       "justify_content": null,
       "justify_items": null,
       "left": null,
       "margin": null,
       "max_height": null,
       "max_width": null,
       "min_height": null,
       "min_width": null,
       "object_fit": null,
       "object_position": null,
       "order": null,
       "overflow": null,
       "overflow_x": null,
       "overflow_y": null,
       "padding": null,
       "right": null,
       "top": null,
       "visibility": null,
       "width": null
      }
     },
     "c4ef64c1429c4d049c4b952e1906bf5e": {
      "model_module": "@jupyter-widgets/controls",
      "model_module_version": "1.5.0",
      "model_name": "DescriptionStyleModel",
      "state": {
       "_model_module": "@jupyter-widgets/controls",
       "_model_module_version": "1.5.0",
       "_model_name": "DescriptionStyleModel",
       "_view_count": null,
       "_view_module": "@jupyter-widgets/base",
       "_view_module_version": "1.2.0",
       "_view_name": "StyleView",
       "description_width": ""
      }
     },
     "cae13970055a44a09fbe31e19911087a": {
      "model_module": "@jupyter-widgets/controls",
      "model_module_version": "1.5.0",
      "model_name": "HTMLModel",
      "state": {
       "_dom_classes": [],
       "_model_module": "@jupyter-widgets/controls",
       "_model_module_version": "1.5.0",
       "_model_name": "HTMLModel",
       "_view_count": null,
       "_view_module": "@jupyter-widgets/controls",
       "_view_module_version": "1.5.0",
       "_view_name": "HTMLView",
       "description": "",
       "description_tooltip": null,
       "layout": "IPY_MODEL_76c12b9e7502419da6c5d8afae0b45ab",
       "placeholder": "​",
       "style": "IPY_MODEL_2ed7fd040a494b91bcb6b11bf17446a7",
       "value": "config.json: 100%"
      }
     },
     "cd53dfa32e15440aadac97ed88dbec02": {
      "model_module": "@jupyter-widgets/controls",
      "model_module_version": "1.5.0",
      "model_name": "DescriptionStyleModel",
      "state": {
       "_model_module": "@jupyter-widgets/controls",
       "_model_module_version": "1.5.0",
       "_model_name": "DescriptionStyleModel",
       "_view_count": null,
       "_view_module": "@jupyter-widgets/base",
       "_view_module_version": "1.2.0",
       "_view_name": "StyleView",
       "description_width": ""
      }
     },
     "cde68addf7004559a03c89e3c5cd5070": {
      "model_module": "@jupyter-widgets/controls",
      "model_module_version": "1.5.0",
      "model_name": "DescriptionStyleModel",
      "state": {
       "_model_module": "@jupyter-widgets/controls",
       "_model_module_version": "1.5.0",
       "_model_name": "DescriptionStyleModel",
       "_view_count": null,
       "_view_module": "@jupyter-widgets/base",
       "_view_module_version": "1.2.0",
       "_view_name": "StyleView",
       "description_width": ""
      }
     },
     "d006714a85f746a2a1485b6e1faf7003": {
      "model_module": "@jupyter-widgets/controls",
      "model_module_version": "1.5.0",
      "model_name": "FloatProgressModel",
      "state": {
       "_dom_classes": [],
       "_model_module": "@jupyter-widgets/controls",
       "_model_module_version": "1.5.0",
       "_model_name": "FloatProgressModel",
       "_view_count": null,
       "_view_module": "@jupyter-widgets/controls",
       "_view_module_version": "1.5.0",
       "_view_name": "ProgressView",
       "bar_style": "success",
       "description": "",
       "description_tooltip": null,
       "layout": "IPY_MODEL_ba8f192523cf4f3d81fe72f0c6b16060",
       "max": 2464616.0,
       "min": 0.0,
       "orientation": "horizontal",
       "style": "IPY_MODEL_57d07143c3b54fb2baad23f96e0874aa",
       "value": 2464616.0
      }
     },
     "deefef886f9c43cf88f6f162100f2e3e": {
      "model_module": "@jupyter-widgets/base",
      "model_module_version": "1.2.0",
      "model_name": "LayoutModel",
      "state": {
       "_model_module": "@jupyter-widgets/base",
       "_model_module_version": "1.2.0",
       "_model_name": "LayoutModel",
       "_view_count": null,
       "_view_module": "@jupyter-widgets/base",
       "_view_module_version": "1.2.0",
       "_view_name": "LayoutView",
       "align_content": null,
       "align_items": null,
       "align_self": null,
       "border": null,
       "bottom": null,
       "display": null,
       "flex": null,
       "flex_flow": null,
       "grid_area": null,
       "grid_auto_columns": null,
       "grid_auto_flow": null,
       "grid_auto_rows": null,
       "grid_column": null,
       "grid_gap": null,
       "grid_row": null,
       "grid_template_areas": null,
       "grid_template_columns": null,
       "grid_template_rows": null,
       "height": null,
       "justify_content": null,
       "justify_items": null,
       "left": null,
       "margin": null,
       "max_height": null,
       "max_width": null,
       "min_height": null,
       "min_width": null,
       "object_fit": null,
       "object_position": null,
       "order": null,
       "overflow": null,
       "overflow_x": null,
       "overflow_y": null,
       "padding": null,
       "right": null,
       "top": null,
       "visibility": null,
       "width": null
      }
     },
     "e8b1ba7cf2354528ab658faf56c8985f": {
      "model_module": "@jupyter-widgets/base",
      "model_module_version": "1.2.0",
      "model_name": "LayoutModel",
      "state": {
       "_model_module": "@jupyter-widgets/base",
       "_model_module_version": "1.2.0",
       "_model_name": "LayoutModel",
       "_view_count": null,
       "_view_module": "@jupyter-widgets/base",
       "_view_module_version": "1.2.0",
       "_view_name": "LayoutView",
       "align_content": null,
       "align_items": null,
       "align_self": null,
       "border": null,
       "bottom": null,
       "display": null,
       "flex": null,
       "flex_flow": null,
       "grid_area": null,
       "grid_auto_columns": null,
       "grid_auto_flow": null,
       "grid_auto_rows": null,
       "grid_column": null,
       "grid_gap": null,
       "grid_row": null,
       "grid_template_areas": null,
       "grid_template_columns": null,
       "grid_template_rows": null,
       "height": null,
       "justify_content": null,
       "justify_items": null,
       "left": null,
       "margin": null,
       "max_height": null,
       "max_width": null,
       "min_height": null,
       "min_width": null,
       "object_fit": null,
       "object_position": null,
       "order": null,
       "overflow": null,
       "overflow_x": null,
       "overflow_y": null,
       "padding": null,
       "right": null,
       "top": null,
       "visibility": null,
       "width": null
      }
     },
     "efc7d8e9f3cc457f93faf7367ab86cd3": {
      "model_module": "@jupyter-widgets/controls",
      "model_module_version": "1.5.0",
      "model_name": "HTMLModel",
      "state": {
       "_dom_classes": [],
       "_model_module": "@jupyter-widgets/controls",
       "_model_module_version": "1.5.0",
       "_model_name": "HTMLModel",
       "_view_count": null,
       "_view_module": "@jupyter-widgets/controls",
       "_view_module_version": "1.5.0",
       "_view_name": "HTMLView",
       "description": "",
       "description_tooltip": null,
       "layout": "IPY_MODEL_3f8ee3fcf5ed47f08eb3eeaff0647d5e",
       "placeholder": "​",
       "style": "IPY_MODEL_cde68addf7004559a03c89e3c5cd5070",
       "value": "tokenizer_config.json: 100%"
      }
     },
     "f37802e035ff44d181776f86eabe948d": {
      "model_module": "@jupyter-widgets/controls",
      "model_module_version": "1.5.0",
      "model_name": "FloatProgressModel",
      "state": {
       "_dom_classes": [],
       "_model_module": "@jupyter-widgets/controls",
       "_model_module_version": "1.5.0",
       "_model_name": "FloatProgressModel",
       "_view_count": null,
       "_view_module": "@jupyter-widgets/controls",
       "_view_module_version": "1.5.0",
       "_view_name": "ProgressView",
       "bar_style": "success",
       "description": "",
       "description_tooltip": null,
       "layout": "IPY_MODEL_3c55a6f3b2d6453d92734e1c2c6ccf3d",
       "max": 52.0,
       "min": 0.0,
       "orientation": "horizontal",
       "style": "IPY_MODEL_1f7d29516b7a46dcb0fa01415173e1df",
       "value": 52.0
      }
     },
     "f37f807ded5e4af5a607d3a76b4de99f": {
      "model_module": "@jupyter-widgets/controls",
      "model_module_version": "1.5.0",
      "model_name": "HBoxModel",
      "state": {
       "_dom_classes": [],
       "_model_module": "@jupyter-widgets/controls",
       "_model_module_version": "1.5.0",
       "_model_name": "HBoxModel",
       "_view_count": null,
       "_view_module": "@jupyter-widgets/controls",
       "_view_module_version": "1.5.0",
       "_view_name": "HBoxView",
       "box_style": "",
       "children": [
        "IPY_MODEL_cae13970055a44a09fbe31e19911087a",
        "IPY_MODEL_aa1ceb8e11cc412ea3062b14dcb51319",
        "IPY_MODEL_73ed4c4fc9104779b8fdb3fc52e64f4e"
       ],
       "layout": "IPY_MODEL_9d8022fde15349cf92f52a24eac326ed"
      }
     },
     "ff9e6813dd3d499f8c44902f3806b49c": {
      "model_module": "@jupyter-widgets/controls",
      "model_module_version": "1.5.0",
      "model_name": "HTMLModel",
      "state": {
       "_dom_classes": [],
       "_model_module": "@jupyter-widgets/controls",
       "_model_module_version": "1.5.0",
       "_model_name": "HTMLModel",
       "_view_count": null,
       "_view_module": "@jupyter-widgets/controls",
       "_view_module_version": "1.5.0",
       "_view_name": "HTMLView",
       "description": "",
       "description_tooltip": null,
       "layout": "IPY_MODEL_999bd4cca8c94c3a8c59da5cb58d8c2e",
       "placeholder": "​",
       "style": "IPY_MODEL_ad398d8a95ab459abdfa03879da117ba",
       "value": "tf_model.h5: 100%"
      }
     }
    },
    "version_major": 2,
    "version_minor": 0
   }
  }
 },
 "nbformat": 4,
 "nbformat_minor": 5
}
